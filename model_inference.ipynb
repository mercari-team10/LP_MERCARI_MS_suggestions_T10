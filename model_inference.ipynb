{
 "cells": [
  {
   "cell_type": "code",
   "execution_count": 44,
   "metadata": {},
   "outputs": [],
   "source": [
    "# IMPORTING THE LIBRARIES\n",
    "import joblib\n",
    "import pickle\n",
    "import pandas as pd\n",
    "import numpy as np"
   ]
  },
  {
   "cell_type": "code",
   "execution_count": 45,
   "metadata": {},
   "outputs": [],
   "source": [
    "#Paths\n",
    "symp_svty = './Symptom-severity.csv'\n",
    "path_to_model = './gbm_model.pkl'"
   ]
  },
  {
   "cell_type": "code",
   "execution_count": 46,
   "metadata": {},
   "outputs": [],
   "source": [
    "# preprocessing strps\n",
    "\n",
    "model =  joblib.load(path_to_model)\n",
    "df_severity = pd.read_csv(symp_svty)\n",
    "df_severity['Symptom'] = df_severity['Symptom'].str.replace('_',' ')\n",
    "symptoms = df_severity['Symptom'].unique()"
   ]
  },
  {
   "cell_type": "code",
   "execution_count": 47,
   "metadata": {},
   "outputs": [],
   "source": [
    "\n",
    "mapper = dict(zip(df_severity.Symptom, df_severity.weight))\n",
    " "
   ]
  },
  {
   "cell_type": "code",
   "execution_count": 64,
   "metadata": {},
   "outputs": [],
   "source": [
    "# FUNCTION TO PERFORM INFERENCE\n",
    "\n",
    "def encode_data(symp_list) :\n",
    "    feats = []\n",
    "    for symp in symp_list :\n",
    "        feats.append(mapper[symp])\n",
    "    appends = [0] * (17 - len(feats))\n",
    "    final_feats = feats  + appends\n",
    "    final_feats = np.array([final_feats])\n",
    "    return final_feats\n",
    "    \n",
    "    \n",
    "    "
   ]
  },
  {
   "cell_type": "code",
   "execution_count": 65,
   "metadata": {},
   "outputs": [],
   "source": [
    "def predict_label(x,model) :\n",
    "    label = model.predict(x)\n",
    "    return label"
   ]
  },
  {
   "cell_type": "code",
   "execution_count": 66,
   "metadata": {},
   "outputs": [],
   "source": [
    "symps_list = [ 'shivering', 'chills', 'joint pain',\n",
    "       'stomach pain', 'acidity', 'ulcers on tongue', 'muscle wasting',\n",
    "       'vomiting']"
   ]
  },
  {
   "cell_type": "code",
   "execution_count": 67,
   "metadata": {},
   "outputs": [],
   "source": [
    "feats = encode_data(symps_list)"
   ]
  },
  {
   "cell_type": "code",
   "execution_count": 68,
   "metadata": {},
   "outputs": [
    {
     "name": "stdout",
     "output_type": "stream",
     "text": [
      "['Hepatitis D']\n"
     ]
    }
   ],
   "source": [
    "disease = predict_label(feats,model)\n",
    "print(disease)"
   ]
  },
  {
   "cell_type": "code",
   "execution_count": null,
   "metadata": {},
   "outputs": [],
   "source": []
  }
 ],
 "metadata": {
  "kernelspec": {
   "display_name": "Python 3.8.3 64-bit ('base': conda)",
   "language": "python",
   "name": "python383jvsc74a57bd0067485f78782b1842b8000df3edc7ff0da6075b40c4ef6b239b4438569e5e362"
  },
  "language_info": {
   "codemirror_mode": {
    "name": "ipython",
    "version": 3
   },
   "file_extension": ".py",
   "mimetype": "text/x-python",
   "name": "python",
   "nbconvert_exporter": "python",
   "pygments_lexer": "ipython3",
   "version": "3.8.3"
  }
 },
 "nbformat": 4,
 "nbformat_minor": 2
}
